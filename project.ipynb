{
 "cells": [
  {
   "cell_type": "markdown",
   "metadata": {},
   "source": [
    "### Load libs"
   ]
  },
  {
   "cell_type": "code",
   "execution_count": 2,
   "metadata": {},
   "outputs": [],
   "source": [
    "import requests \n",
    "from bs4 import BeautifulSoup as bs"
   ]
  },
  {
   "cell_type": "markdown",
   "metadata": {},
   "source": [
    "### Store Columns and Rows"
   ]
  },
  {
   "cell_type": "code",
   "execution_count": 3,
   "metadata": {},
   "outputs": [],
   "source": [
    "r = requests.get(\"https://en.wikipedia.org/wiki/Mr._Olympia\")\n",
    "webpage = bs(r.content)\n",
    "table = webpage.find_all(\"table\", {\"class\": \"wikitable\"})[0]   "
   ]
  },
  {
   "cell_type": "code",
   "execution_count": 4,
   "metadata": {},
   "outputs": [
    {
     "data": {
      "text/plain": [
       "['#', 'Year', 'Winner(s)[a]', 'Award', 'Venue']"
      ]
     },
     "execution_count": 4,
     "metadata": {},
     "output_type": "execute_result"
    }
   ],
   "source": [
    "columns_name = table.find_all('th')\n",
    "columns_name = [th.text.strip() for th in columns_name]\n",
    "\n",
    "columns_name"
   ]
  },
  {
   "cell_type": "code",
   "execution_count": 5,
   "metadata": {},
   "outputs": [
    {
     "name": "stdout",
     "output_type": "stream",
     "text": [
      "['1', '1965', 'Larry Scott[31]', '$1,000', 'New York, United States']\n",
      "['2', '1966']\n",
      "['3', '1967', 'Sergio Oliva[32]']\n",
      "['4', '1968']\n",
      "['5', '1969']\n",
      "['6', '1970', 'Arnold Schwarzenegger[32]']\n",
      "['7', '1971', 'Paris, France']\n",
      "['8', '1972', 'Essen, West Germany']\n",
      "['9', '1973', 'New York, United States']\n",
      "['10', '1974', 'Arnold Schwarzenegger[32](Heavyweight & overall)', 'Franco Columbu(Lightweight)']\n",
      "['11', '1975', '$2,500', 'Pretoria, South Africa']\n",
      "['12', '1976', 'Franco Columbu[32](Lightweight & overall)', 'Ken Waller(Heavyweight)', '$5,000', 'Columbus, United States']\n",
      "['13', '1977', 'Frank Zane[32](Lightweight & overall)', 'Robby Robinson(Heavyweight)']\n",
      "['14', '1978', '$15,000']\n",
      "['15', '1979', 'Mike Mentzer(Heavyweight)', '$25,000']\n",
      "['16', '1980', 'Arnold Schwarzenegger[32]', 'Sydney, Australia']\n",
      "['17', '1981', 'Franco Columbu[32]', 'Columbus, United States']\n",
      "['18', '1982', 'Chris Dickerson[32]', 'London, United Kingdom']\n",
      "['19', '1983', 'Samir Bannout[32]', 'Munich, West Germany']\n",
      "['20', '1984', 'Lee Haney[32]', '$50,000', 'New York, United States']\n",
      "['21', '1985', 'Brussels, Belgium']\n",
      "['22', '1986', '$55,000', 'Columbus, United States']\n",
      "['23', '1987', 'Gothenburg, Sweden']\n",
      "['24', '1988', 'Unknown', 'Los Angeles, United States']\n",
      "['25', '1989', 'Rimini, Italy']\n",
      "['26', '1990', '$100,000', 'Chicago, United States']\n",
      "['27', '1991', 'Orlando, United States']\n",
      "['28', '1992', 'Dorian Yates[32]', 'Helsinki, Finland']\n",
      "['29', '1993', 'Atlanta, United States']\n",
      "['30', '1994']\n",
      "['31', '1995', '$110,000']\n",
      "['32', '1996', 'Chicago, United States']\n",
      "['33', '1997', 'Los Angeles, United States']\n",
      "['34', '1998', 'Ronnie Coleman[32]', 'New York, United States']\n",
      "['35', '1999', 'Las Vegas, United States']\n",
      "['36', '2000']\n",
      "['37', '2001']\n",
      "['38', '2002']\n",
      "['39', '2003']\n",
      "['40', '2004', '$120,000']\n",
      "['41', '2005', '$150,000']\n",
      "['42', '2006', 'Jay Cutler[32]', '$155,000']\n",
      "['43', '2007']\n",
      "['44', '2008', 'Dexter Jackson[32]']\n",
      "['45', '2009', 'Jay Cutler[32]', '$200,000']\n",
      "['46', '2010']\n",
      "['47', '2011', 'Phil Heath[32]']\n",
      "['48', '2012', '$250,000']\n",
      "['49', '2013']\n",
      "['50', '2014', '$275,000']\n",
      "['51', '2015', '$400,000']\n",
      "['52', '2016']\n",
      "['53', '2017']\n",
      "['54', '2018', 'Shawn Rhoden[33]']\n",
      "['55', '2019', 'Brandon Curry[34]']\n",
      "['56', '2020', 'Mamdouh Elssbiay[35]', 'Orlando, United States']\n",
      "['57', '2021']\n",
      "['58', '2022', 'Hadi Choopan', 'Las Vegas, United States']\n",
      "['59', '2023', 'Derek Lunsford', 'Orlando, United States']\n"
     ]
    }
   ],
   "source": [
    "rows = table.tbody.find_all('tr')\n",
    "rows = rows[1:]\n",
    "\n",
    "l = []\n",
    "for tr in rows:\n",
    "    td = tr.find_all('td')\n",
    "    row = [str(tr.get_text()).strip() for tr in td]\n",
    "    l.append(row)\n",
    "    \n",
    "for row in l:\n",
    "    print(row)"
   ]
  }
 ],
 "metadata": {
  "kernelspec": {
   "display_name": ".venv",
   "language": "python",
   "name": "python3"
  },
  "language_info": {
   "codemirror_mode": {
    "name": "ipython",
    "version": 3
   },
   "file_extension": ".py",
   "mimetype": "text/x-python",
   "name": "python",
   "nbconvert_exporter": "python",
   "pygments_lexer": "ipython3",
   "version": "3.11.7"
  },
  "orig_nbformat": 4
 },
 "nbformat": 4,
 "nbformat_minor": 2
}
